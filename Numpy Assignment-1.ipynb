{
 "cells": [
  {
   "cell_type": "code",
   "execution_count": 1,
   "id": "d145c37a",
   "metadata": {},
   "outputs": [],
   "source": [
    "import numpy as np"
   ]
  },
  {
   "cell_type": "markdown",
   "id": "643becff",
   "metadata": {},
   "source": [
    "## 1. Create a null vector of size 10 but the fifth value which is 1."
   ]
  },
  {
   "cell_type": "code",
   "execution_count": 5,
   "id": "2be9fdc5",
   "metadata": {},
   "outputs": [
    {
     "name": "stdout",
     "output_type": "stream",
     "text": [
      "[0. 0. 0. 0. 1. 0. 0. 0. 0. 0.]\n"
     ]
    }
   ],
   "source": [
    "null_vector = np.zeros(10)\n",
    "null_vector[4] = 1\n",
    "print(null_vector)"
   ]
  },
  {
   "cell_type": "markdown",
   "id": "1a450faa",
   "metadata": {},
   "source": [
    "## 2. Create a vector with values ranging from 10 to 49."
   ]
  },
  {
   "cell_type": "code",
   "execution_count": 9,
   "id": "2c9d5930",
   "metadata": {},
   "outputs": [
    {
     "data": {
      "text/plain": [
       "array([10, 11, 12, 13, 14, 15, 16, 17, 18, 19, 20, 21, 22, 23, 24, 25, 26,\n",
       "       27, 28, 29, 30, 31, 32, 33, 34, 35, 36, 37, 38, 39, 40, 41, 42, 43,\n",
       "       44, 45, 46, 47, 48, 49])"
      ]
     },
     "execution_count": 9,
     "metadata": {},
     "output_type": "execute_result"
    }
   ],
   "source": [
    "vector = np.arange(10, 50)\n",
    "vector"
   ]
  },
  {
   "cell_type": "markdown",
   "id": "2353a3d2",
   "metadata": {},
   "source": [
    "## 3. Create a 3x3 matrix with values ranging from 0 to 8"
   ]
  },
  {
   "cell_type": "code",
   "execution_count": 10,
   "id": "a5c9e07c",
   "metadata": {},
   "outputs": [
    {
     "data": {
      "text/plain": [
       "array([[0, 1, 2],\n",
       "       [3, 4, 5],\n",
       "       [6, 7, 8]])"
      ]
     },
     "execution_count": 10,
     "metadata": {},
     "output_type": "execute_result"
    }
   ],
   "source": [
    "matrix = np.arange(9).reshape(3,3)\n",
    "matrix"
   ]
  },
  {
   "cell_type": "markdown",
   "id": "35c7cf55",
   "metadata": {},
   "source": [
    "## 4. Find indices of non-zero elements from [1,2,0,0,4,0]"
   ]
  },
  {
   "cell_type": "code",
   "execution_count": 12,
   "id": "9e9e1441",
   "metadata": {},
   "outputs": [
    {
     "data": {
      "text/plain": [
       "(array([0, 1, 4], dtype=int64),)"
      ]
     },
     "execution_count": 12,
     "metadata": {},
     "output_type": "execute_result"
    }
   ],
   "source": [
    "arr = np.array([1,2,0,0,4,0])\n",
    "non_zero_indices = np.nonzero(arr)\n",
    "non_zero_indices"
   ]
  },
  {
   "cell_type": "markdown",
   "id": "de1baf4e",
   "metadata": {},
   "source": [
    "## 5. Create a 10x10 array with random values and find the minimum and maximum values."
   ]
  },
  {
   "cell_type": "code",
   "execution_count": 14,
   "id": "2a74a1d2",
   "metadata": {},
   "outputs": [
    {
     "name": "stdout",
     "output_type": "stream",
     "text": [
      "Minimum Value: 0.004845045522431701\n",
      "Maximum value: 0.9939253232394376\n"
     ]
    }
   ],
   "source": [
    "random_array = np.random.rand(10,10)\n",
    "\n",
    "min_value = np.min(random_array)\n",
    "max_value = np.max(random_array)\n",
    "\n",
    "print(\"Minimum Value:\", min_value)\n",
    "print(\"Maximum value:\", max_value)"
   ]
  },
  {
   "cell_type": "markdown",
   "id": "9c8659ca",
   "metadata": {},
   "source": [
    "## 6. Create a random vector of size 30 and find the mean value.  "
   ]
  },
  {
   "cell_type": "code",
   "execution_count": 16,
   "id": "0892f51a",
   "metadata": {},
   "outputs": [
    {
     "name": "stdout",
     "output_type": "stream",
     "text": [
      "Mean Value: 0.5271831437536123\n"
     ]
    }
   ],
   "source": [
    "random_vector = np.random.rand(30)\n",
    "\n",
    "mean_value = np.mean(random_vector)\n",
    "print(\"Mean Value:\", mean_value)"
   ]
  }
 ],
 "metadata": {
  "kernelspec": {
   "display_name": "Python 3 (ipykernel)",
   "language": "python",
   "name": "python3"
  },
  "language_info": {
   "codemirror_mode": {
    "name": "ipython",
    "version": 3
   },
   "file_extension": ".py",
   "mimetype": "text/x-python",
   "name": "python",
   "nbconvert_exporter": "python",
   "pygments_lexer": "ipython3",
   "version": "3.10.9"
  }
 },
 "nbformat": 4,
 "nbformat_minor": 5
}
